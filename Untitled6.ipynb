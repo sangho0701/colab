{
  "nbformat": 4,
  "nbformat_minor": 0,
  "metadata": {
    "colab": {
      "provenance": [],
      "authorship_tag": "ABX9TyP6csacVtdI772ChrxO0XRr",
      "include_colab_link": true
    },
    "kernelspec": {
      "name": "python3",
      "display_name": "Python 3"
    },
    "language_info": {
      "name": "python"
    }
  },
  "cells": [
    {
      "cell_type": "markdown",
      "metadata": {
        "id": "view-in-github",
        "colab_type": "text"
      },
      "source": [
        "<a href=\"https://colab.research.google.com/github/sangho0701/colab/blob/main/Untitled6.ipynb\" target=\"_parent\"><img src=\"https://colab.research.google.com/assets/colab-badge.svg\" alt=\"Open In Colab\"/></a>"
      ]
    },
    {
      "cell_type": "code",
      "execution_count": 3,
      "metadata": {
        "colab": {
          "base_uri": "https://localhost:8080/"
        },
        "id": "KyXeyDuq-0JO",
        "outputId": "3c55e0bb-a10f-4380-d974-ec17de2739ae"
      },
      "outputs": [
        {
          "output_type": "stream",
          "name": "stdout",
          "text": [
            "2 X 1 = 2\n",
            "2 X 2 = 4\n",
            "2 X 3 = 6\n",
            "2 X 4 = 8\n",
            "2 X 5 = 10\n",
            "2 X 6 = 12\n",
            "2 X 7 = 14\n",
            "2 X 8 = 16\n",
            "2 X 9 = 18\n",
            "\n",
            "3 X 1 = 3\n",
            "3 X 2 = 6\n",
            "3 X 3 = 9\n",
            "3 X 4 = 12\n",
            "3 X 5 = 15\n",
            "3 X 6 = 18\n",
            "3 X 7 = 21\n",
            "3 X 8 = 24\n",
            "3 X 9 = 27\n",
            "\n",
            "4 X 1 = 4\n",
            "4 X 2 = 8\n",
            "4 X 3 = 12\n",
            "4 X 4 = 16\n",
            "4 X 5 = 20\n",
            "4 X 6 = 24\n",
            "4 X 7 = 28\n",
            "4 X 8 = 32\n",
            "4 X 9 = 36\n",
            "\n",
            "5 X 1 = 5\n",
            "5 X 2 = 10\n",
            "5 X 3 = 15\n",
            "5 X 4 = 20\n",
            "5 X 5 = 25\n",
            "5 X 6 = 30\n",
            "5 X 7 = 35\n",
            "5 X 8 = 40\n",
            "5 X 9 = 45\n",
            "\n",
            "6 X 1 = 6\n",
            "6 X 2 = 12\n",
            "6 X 3 = 18\n",
            "6 X 4 = 24\n",
            "6 X 5 = 30\n",
            "6 X 6 = 36\n",
            "6 X 7 = 42\n",
            "6 X 8 = 48\n",
            "6 X 9 = 54\n",
            "\n",
            "7 X 1 = 7\n",
            "7 X 2 = 14\n",
            "7 X 3 = 21\n",
            "7 X 4 = 28\n",
            "7 X 5 = 35\n",
            "7 X 6 = 42\n",
            "7 X 7 = 49\n",
            "7 X 8 = 56\n",
            "7 X 9 = 63\n",
            "\n",
            "8 X 1 = 8\n",
            "8 X 2 = 16\n",
            "8 X 3 = 24\n",
            "8 X 4 = 32\n",
            "8 X 5 = 40\n",
            "8 X 6 = 48\n",
            "8 X 7 = 56\n",
            "8 X 8 = 64\n",
            "8 X 9 = 72\n",
            "\n",
            "9 X 1 = 9\n",
            "9 X 2 = 18\n",
            "9 X 3 = 27\n",
            "9 X 4 = 36\n",
            "9 X 5 = 45\n",
            "9 X 6 = 54\n",
            "9 X 7 = 63\n",
            "9 X 8 = 72\n",
            "9 X 9 = 81\n",
            "\n"
          ]
        }
      ],
      "source": [
        "i = 0\n",
        "j = 0\n",
        "\n",
        "for i in range(2, 10) :\n",
        "  for j in range(1, 10) :\n",
        "    print(i, \"X\", j, \"=\", i * j)\n",
        "  print(\"\")"
      ]
    },
    {
      "cell_type": "code",
      "source": [
        "hap = 0\n",
        "num1, num2 = 0, 0\n",
        "\n",
        "while True : \n",
        "  num1 = int(input(\"숫자1 : \"))\n",
        "  if num1 == 0 : break\n",
        "  num2 = int(input(\"숫자2 : \"))\n",
        "  hap = num1 + num2\n",
        "  print(num1, \"+\", num2, \"=\", hap)"
      ],
      "metadata": {
        "colab": {
          "base_uri": "https://localhost:8080/"
        },
        "id": "3v67ZUrHA9JL",
        "outputId": "3c04fe9b-d8c8-47d8-99f1-f93afbd11e19"
      },
      "execution_count": 13,
      "outputs": [
        {
          "name": "stdout",
          "output_type": "stream",
          "text": [
            "숫자1 : 21354\n",
            "숫자2 : 2123\n",
            "21354 + 2123 = 23477\n",
            "숫자1 : 0\n"
          ]
        }
      ]
    },
    {
      "cell_type": "markdown",
      "source": [
        "주사위 3개 동시에 던졌을때 반복문 나오기."
      ],
      "metadata": {
        "id": "4JIbf1paEm8y"
      }
    },
    {
      "cell_type": "code",
      "source": [
        "import random\n",
        "\n",
        "count = 0\n",
        "\n",
        "while True :\n",
        "  r1 = random.randint(1, 6)\n",
        "  r2 = random.randint(1, 6)\n",
        "  r3 = random.randint(1, 6)\n",
        "\n",
        "  count += 1\n",
        "    \n",
        "  if (r1 == r2 == r3) : break\n",
        "\n",
        "print(\"3개의 주사위는 모두\", r1, \"입니다\")\n",
        "print(\"같은 숫자가 나오기까지\", count, \"번 던졌습니다\") "
      ],
      "metadata": {
        "colab": {
          "base_uri": "https://localhost:8080/"
        },
        "id": "hdokDadSC8Kb",
        "outputId": "cfe5511b-20ca-470b-95b0-877ba6993c93"
      },
      "execution_count": 28,
      "outputs": [
        {
          "output_type": "stream",
          "name": "stdout",
          "text": [
            "3개의 주사위는 모두 2 입니다\n",
            "같은 숫자가 나오기까지 1 번 던졌습니다\n"
          ]
        }
      ]
    },
    {
      "cell_type": "code",
      "source": [
        "import random\n",
        "\n",
        "computer, user = 0, 0\n",
        "\n",
        "for i in range(1, 11) :\n",
        "  computer = random.randint(1, 5)\n",
        "  print(\"게임\", i, \"회\", end='' )\n",
        "  user = int(input(\"컴퓨터가 생각한 숫자는? : \"))\n",
        "\n",
        "  if computer == user :\n",
        "    print(\"맞혔네요. 축하합니다!!\")\n",
        "    break\n",
        "\n",
        "  else : \n",
        "    print(\"아까워요\", computer, \"였는데. 다시 해보세요.ㅠ\")\n",
        "    continue\n",
        "print(\"게임을 마칩니다.\")"
      ],
      "metadata": {
        "colab": {
          "base_uri": "https://localhost:8080/"
        },
        "id": "ptM50WYBGWbr",
        "outputId": "cf2ad276-8deb-49bb-a2c1-02ec7071105d"
      },
      "execution_count": 35,
      "outputs": [
        {
          "output_type": "stream",
          "name": "stdout",
          "text": [
            "게임 1 회컴퓨터가 생각한 숫자는? : 2\n",
            "아까워요 5 였는데. 다시 해보세요.ㅠ\n",
            "게임 2 회컴퓨터가 생각한 숫자는? : 3\n",
            "아까워요 1 였는데. 다시 해보세요.ㅠ\n",
            "게임 3 회컴퓨터가 생각한 숫자는? : 1\n",
            "아까워요 5 였는데. 다시 해보세요.ㅠ\n",
            "게임 4 회컴퓨터가 생각한 숫자는? : 5\n",
            "아까워요 4 였는데. 다시 해보세요.ㅠ\n",
            "게임 5 회컴퓨터가 생각한 숫자는? : 4\n",
            "맞혔네요. 축하합니다!!\n",
            "게임을 마칩니다.\n"
          ]
        }
      ]
    },
    {
      "cell_type": "code",
      "source": [
        "import random\n",
        "com_List = (1, 2, 3, 4, 5, 6, 7, 8, 9)\n",
        "coma_num = 0\n",
        "for i in range(3) :\n",
        "  i = random.choice(com_List)\n",
        "  "
      ],
      "metadata": {
        "id": "ZcZMCIFAKjPi"
      },
      "execution_count": null,
      "outputs": []
    }
  ]
}