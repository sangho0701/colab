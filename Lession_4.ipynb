{
  "nbformat": 4,
  "nbformat_minor": 0,
  "metadata": {
    "colab": {
      "name": "Lession-4.ipynb",
      "provenance": [],
      "authorship_tag": "ABX9TyNM9cTWrm2jC+fDqIwRDK0j",
      "include_colab_link": true
    },
    "kernelspec": {
      "name": "python3",
      "display_name": "Python 3"
    },
    "language_info": {
      "name": "python"
    }
  },
  "cells": [
    {
      "cell_type": "markdown",
      "metadata": {
        "id": "view-in-github",
        "colab_type": "text"
      },
      "source": [
        "<a href=\"https://colab.research.google.com/github/sangho0701/colab/blob/main/Lession_4.ipynb\" target=\"_parent\"><img src=\"https://colab.research.google.com/assets/colab-badge.svg\" alt=\"Open In Colab\"/></a>"
      ]
    },
    {
      "cell_type": "markdown",
      "source": [
        "데이터 타입 예제"
      ],
      "metadata": {
        "id": "qIe37_aINQHd"
      }
    },
    {
      "cell_type": "code",
      "execution_count": null,
      "metadata": {
        "colab": {
          "base_uri": "https://localhost:8080/"
        },
        "id": "JKpZeqtlNNE7",
        "outputId": "0440933a-096e-471d-d444-9a3694d3102a"
      },
      "outputs": [
        {
          "output_type": "stream",
          "name": "stdout",
          "text": [
            "var1 의 타입은 <class 'int'>\n",
            "var2 의 타입은 <class 'float'>\n",
            "var3 의 타입은 <class 'str'>\n",
            "var4 의 타입은 <class 'bool'>\n"
          ]
        }
      ],
      "source": [
        "var1 = 100\n",
        "var2 = 3.14\n",
        "var3 = \"안산공고\"\n",
        "var4 = True\n",
        "\n",
        "print(\"var1 의 타입은\", type(var1))\n",
        "print(\"var2 의 타입은\", type(var2))\n",
        "print(\"var3 의 타입은\", type(var3))\n",
        "print(\"var4 의 타입은\", type(var4))"
      ]
    },
    {
      "cell_type": "code",
      "source": [
        "print(\"\\n줄바꿈\\n연습\")\n",
        "print(\"\\t탭키\\t연습\")\n",
        "print(\"어떤 글자를 \\\"강조\\\"하는 효과1\")\n",
        "print(\"어떤 글자를 \\'강조\\'하는 효과2\")\n",
        "print(\"\\\\\\\\ 백슬래시 2개 출력\")"
      ],
      "metadata": {
        "id": "Tuqjnfmk28Im",
        "outputId": "a5cbdf19-5511-437a-bd0e-e863e8ec54e5",
        "colab": {
          "base_uri": "https://localhost:8080/"
        }
      },
      "execution_count": null,
      "outputs": [
        {
          "output_type": "stream",
          "name": "stdout",
          "text": [
            "\n",
            "줄바꿈\n",
            "연습\n",
            "\t탭키\t연습\n",
            "어떤 글자를 \"강조\"하는 효과1\n",
            "어떤 글자를 '강조'하는 효과2\n",
            "\\\\ 백슬래시 2개 출력\n"
          ]
        }
      ]
    },
    {
      "cell_type": "code",
      "source": [
        "str1 = input(\"첫 번째 문자열 ==> \")\n",
        "str2 = input(\"두 번째 문자열 ==> \")\n",
        "\n",
        "len1 = len(str1)\n",
        "len2 = len(str2)\n",
        "\n",
        "print(\"두 문자열의 길이 차이는\", len1 - len2, \"입니다.\")"
      ],
      "metadata": {
        "id": "7FUXca0-3-JV",
        "outputId": "570bac45-7090-463d-d6f4-c44ed4e6166b",
        "colab": {
          "base_uri": "https://localhost:8080/"
        }
      },
      "execution_count": null,
      "outputs": [
        {
          "output_type": "stream",
          "name": "stdout",
          "text": [
            "첫 번째 문자열 ==> 난생처음 파이썬\n",
            "두 번째 문자열 ==> first python\n",
            "두 문자열의 길이 차이는 -4 입니다.\n"
          ]
        }
      ]
    },
    {
      "cell_type": "code",
      "source": [
        "str1 = \"트와이스\"\n",
        "\n",
        "\n",
        "print(\"원본 문자열 ==>\", str1)\n",
        "print(\"원본 문자열 ==>\", str1[3])\n"
      ],
      "metadata": {
        "id": "z9amMqfT7FVq",
        "outputId": "ed238bce-fc7c-4db9-a9e9-05cb297b029c",
        "colab": {
          "base_uri": "https://localhost:8080/"
        }
      },
      "execution_count": null,
      "outputs": [
        {
          "output_type": "stream",
          "name": "stdout",
          "text": [
            "원본 문자열 ==> 트와이스\n",
            "원본 문자열 ==> 스\n"
          ]
        }
      ]
    },
    {
      "cell_type": "code",
      "source": [
        "str1 = input(\"문자열 입력 : \")\n",
        "print(\"입력된 문자열의 길이 : \", len(str1))\n",
        "print(\"입력된 문자열을 대문자로 변환 : \", str1.upper())\n",
        "print(\"입력된 문자열을 소문자로 변환 : \", str1.lower())\n",
        "print(\"입력된 문자열 중 ansan 몇번 나오는지 : \", str1.count(\"anasn\"))\n",
        "print(\"입력된 문자열은 대문자인가요? \", str1.isupper())\n",
        "print(\"입력된 문자열을 소문자인가요? \", str1.islower())"
      ],
      "metadata": {
        "id": "bibO3KONfcjm",
        "outputId": "98428d30-5741-4cbb-bd9f-3a98eed37191",
        "colab": {
          "base_uri": "https://localhost:8080/"
        }
      },
      "execution_count": null,
      "outputs": [
        {
          "output_type": "stream",
          "name": "stdout",
          "text": [
            "문자열 입력 : 오늘은 금요일, 내일은 토요일 have a nice day!\n",
            "입력된 문자열의 길이 :  33\n",
            "입력된 문자열을 대문자로 변환 :  오늘은 금요일, 내일은 토요일 HAVE A NICE DAY!\n",
            "입력된 문자열을 소문자로 변환 :  오늘은 금요일, 내일은 토요일 have a nice day!\n",
            "입력된 문자열 중 ansan 몇번 나오는지 :  0\n",
            "입력된 문자열은 대문자인가요?  False\n",
            "입력된 문자열을 소문자인가요?  True\n"
          ]
        }
      ]
    },
    {
      "cell_type": "code",
      "source": [
        "lyrics = \"\"\"\n",
        "When I find myself in times of trouble\n",
        "Mother Mary comes to me\n",
        "Speaking words of wisdom\n",
        "Let it be\n",
        "And in my hour of darkness\n",
        "She is standing right in front of me\n",
        "Speaking words of wisdom\n",
        "Let it be\n",
        "Let is be, let it be\n",
        "Let it be, let it be\n",
        "Whisper words of wisdom\n",
        "Let it be\n",
        "And when the brokenhearted people\n",
        "Living in the world agree\n",
        "There will be an answer\n",
        "Let it be\n",
        "For though they may be parted\n",
        "There is still a chance that they will see\n",
        "There will be an answer\n",
        "Let it be\n",
        "Let is be, let it be\n",
        "Let it be, let it be\n",
        "Yeah, there will be an answer\n",
        "Let it be\n",
        "Let is be, let it be\n",
        "Let it be, let it be\n",
        "Whisper words of wisdom\n",
        "Let it be\n",
        "Let is be, let it be\n",
        "Let it be, yeah, let it be\n",
        "Whisper words of wisdom\n",
        "Let it be\n",
        "And when the night is cloudy\n",
        "There is still a light that shines on me\n",
        "Shine on 'til tomorrow\n",
        "Let it be\n",
        "I wake up to the sound of music\n",
        "Mother Mary comes to me\n",
        "Speaking words of wisdom\n",
        "Let it be, yeah\n",
        "Let it be, let it be\n",
        "Let it be, yeah, let it be\n",
        "Oh, there will be an answer\n",
        "Let it be\n",
        "Let it be, let it be\n",
        "Let it be, yeah, let it be\n",
        "Whisper words of wisdom\n",
        "Let it be\n",
        "\"\"\"\n",
        "lyrics = lyrics.lower()\n",
        "count = lyrics.count(\"let it be\")\n",
        "print(\"Let it be 노래에서 'Let it be'라는 단어는 총 몇\", count, \"번 나옵니다.\")"
      ],
      "metadata": {
        "id": "9u5FTRmHgl0l",
        "outputId": "db3e384e-19b7-49df-90e3-6ea9727f4315",
        "colab": {
          "base_uri": "https://localhost:8080/"
        }
      },
      "execution_count": null,
      "outputs": [
        {
          "output_type": "stream",
          "name": "stdout",
          "text": [
            "Let it be 노래에서 'Let it be'라는 단어는 총 몇 32 번 나옵니다.\n"
          ]
        }
      ]
    },
    {
      "cell_type": "code",
      "source": [
        "lyrics = \"\"\"\n",
        "Yesterday\n",
        "All my trouble seemed so far away\n",
        "Now it looks as though they're here to stay\n",
        "Oh, I believe in yesterday\n",
        "Suddenly\n",
        "I'm not half the man I used to be\n",
        "There's a shadow hanging over me\n",
        "Oh, yesterday came suddenly\n",
        "Why she had to go, I don't know\n",
        "She wouldn't say\n",
        "I said something wrong\n",
        "Now I long for yesterday\n",
        "Yesterday\n",
        "Love was such an easy game to play\n",
        "Now I need a place to hide away\n",
        "Oh, I believe in yesterday\n",
        "Why she had to go, I don't know\n",
        "She wouldn't say\n",
        "I said something wrong\n",
        "Now I long for yesterday\n",
        "Yesterday\n",
        "Love was such an easy game to play\n",
        "Now I need a place to hide away\n",
        "Oh, I believe in yesterday\n",
        "\"\"\"\n",
        "lyrics = lyrics.lower()\n",
        "count = lyrics.count(\"yesterday\")\n",
        "print(\"Yestrday 노래에서 'Yesterday' 라는 단어는 총\", count, \"번 나옵니다.\")"
      ],
      "metadata": {
        "id": "TawzSnOPjfQk",
        "outputId": "a1fe612c-c92c-453d-8fb4-209cea7a98f8",
        "colab": {
          "base_uri": "https://localhost:8080/"
        }
      },
      "execution_count": null,
      "outputs": [
        {
          "output_type": "stream",
          "name": "stdout",
          "text": [
            "Yestrday 노래에서 'Yesterday' 라는 단어는 총 9 번 나옵니다.\n"
          ]
        }
      ]
    },
    {
      "cell_type": "code",
      "source": [
        "myList = [\"안산공고\", \"컴퓨터\", 3, 1, 2022]\n",
        "#print(myList)\n",
        "print(myList[4], myList[2], myList[3])"
      ],
      "metadata": {
        "id": "skQ-Ub7vlW5c",
        "outputId": "ab2e9949-b5ad-4377-9da0-25cdc3f02c43",
        "colab": {
          "base_uri": "https://localhost:8080/"
        }
      },
      "execution_count": null,
      "outputs": [
        {
          "output_type": "stream",
          "name": "stdout",
          "text": [
            "2022 3 1\n"
          ]
        }
      ]
    },
    {
      "cell_type": "markdown",
      "source": [
        "문자열 예제"
      ],
      "metadata": {
        "id": "Dm1q_FZzmpx7"
      }
    },
    {
      "cell_type": "code",
      "source": [
        "str1 = \"Ansan Trchnical High School\"\n",
        "print(str1)\n",
        "print(str1[16:20])"
      ],
      "metadata": {
        "id": "VvZYYXzvmq40",
        "outputId": "73b9805b-d99c-4749-c085-234d8899fa67",
        "colab": {
          "base_uri": "https://localhost:8080/"
        }
      },
      "execution_count": null,
      "outputs": [
        {
          "output_type": "stream",
          "name": "stdout",
          "text": [
            "Ansan Trchnical High School\n",
            "High\n",
            "\n"
          ]
        }
      ]
    },
    {
      "cell_type": "code",
      "source": [
        "while True :\n",
        "  str1 = input(\"문자열 입력 : \")\n",
        "  if str1 == \"q\" :\n",
        "    break\n",
        "  print(str1)"
      ],
      "metadata": {
        "id": "8KW5_2kGn3NZ",
        "outputId": "e5ccfb8c-5efe-4cdf-b41e-70b294709dff",
        "colab": {
          "base_uri": "https://localhost:8080/"
        }
      },
      "execution_count": null,
      "outputs": [
        {
          "name": "stdout",
          "output_type": "stream",
          "text": [
            "문자열 입력 : ansan\n",
            "ansan\n",
            "문자열 입력 : q\n"
          ]
        }
      ]
    },
    {
      "cell_type": "code",
      "source": [
        "singer = input(\"가수 이름을 입력 : \")\n",
        "singer_len = len(singer)\n",
        "r_singer = \"\"\n",
        "while singer_len > 0 :\n",
        "  r_singer = r_singer +singer[singer_len-1]\n",
        "  singer_len = singer_len -1\n",
        "print(\"가수 이름을 거꾸로 출력 :\", r_singer)"
      ],
      "metadata": {
        "id": "6CaQdTWjrMNP",
        "outputId": "a7611291-c2a3-4d3c-d022-aea53c51de8b",
        "colab": {
          "base_uri": "https://localhost:8080/"
        }
      },
      "execution_count": null,
      "outputs": [
        {
          "output_type": "stream",
          "name": "stdout",
          "text": [
            "가수 이름을 입력 : 트와이스\n",
            "가수 이름을 거꾸로 출력 : 스이와트\n"
          ]
        }
      ]
    },
    {
      "cell_type": "markdown",
      "source": [
        "입력받은 문자열에서 대문자는 소문자로\n",
        "소문자는 대문자로 출력하는 프로그램"
      ],
      "metadata": {
        "id": "8U3CDA9WvxAc"
      }
    },
    {
      "cell_type": "code",
      "source": [
        "str1 = input(\"원본 문자열 : \")\n",
        "i = 0\n",
        "len(str1)\n",
        "while len(str1) > i :\n",
        "  if str1.isupper() :\n",
        "    str1 = str1.lower()\n",
        "  else :\n",
        "    str1 = str1.upper()\n",
        "    i = i + 1\n",
        "print(\"변경한 문자열 :\", str1)"
      ],
      "metadata": {
        "id": "vXbqk3TGuKv9",
        "outputId": "47c36e81-b177-4a4d-eaa2-71dca0c18a97",
        "colab": {
          "base_uri": "https://localhost:8080/"
        }
      },
      "execution_count": null,
      "outputs": [
        {
          "output_type": "stream",
          "name": "stdout",
          "text": [
            "원본 문자열 : DsdsdsSD\n",
            "변경한 문자열 : DSDSDSSD\n"
          ]
        }
      ]
    },
    {
      "cell_type": "code",
      "source": [
        "str1 = input(\"원본 문자열을 입력 : \")\n",
        "str2 = \"\"\n",
        "for i in range(len(str1)) :\n",
        "  if str1[i].isupper() :\n",
        "    str2 = str2 + str1[i].lower()\n",
        "  else :\n",
        "   str2 = str2 + str1[i].upper()\n",
        "print(\"변경한 문자열 : \", str2)"
      ],
      "metadata": {
        "id": "wIw0yWXm1y24",
        "outputId": "a88d9c16-c1d2-4d6d-a670-e8ddbabcb3f6",
        "colab": {
          "base_uri": "https://localhost:8080/"
        }
      },
      "execution_count": null,
      "outputs": [
        {
          "output_type": "stream",
          "name": "stdout",
          "text": [
            "원본 문자열을 입력 : SDsdsSds\n",
            "변경한 문자열 :  sdSDSsDS\n"
          ]
        }
      ]
    },
    {
      "cell_type": "markdown",
      "source": [
        "꼬북이 예제"
      ],
      "metadata": {
        "id": "EzhpsGvbLo_G"
      }
    },
    {
      "cell_type": "code",
      "source": [
        "import ColabTurtle. Turtle as turtle\n",
        "turtle. initializeTurtle()\n",
        "\n",
        "x = int(input(\"이동할 x의 위치 : \"))\n",
        "y = int(input(\"이동할 y의 위치 : \"))\n",
        "text = input(\"쓰고 싶은 글자 : \")\n",
        "turtle.penup()\n",
        "turtle.goto(x, y)\n",
        "turtle.write(text)"
      ],
      "metadata": {
        "id": "r0Xxy_lGHsuQ",
        "outputId": "94d93d69-6845-450c-9b63-5d8d0d001f42",
        "colab": {
          "base_uri": "https://localhost:8080/",
          "height": 575
        }
      },
      "execution_count": 21,
      "outputs": [
        {
          "output_type": "display_data",
          "data": {
            "text/plain": [
              "<IPython.core.display.HTML object>"
            ],
            "text/html": [
              "\n",
              "      <svg width=\"800\" height=\"500\">\n",
              "        <rect width=\"100%\" height=\"100%\" fill=\"black\"/>\n",
              "        <text x=\"200\" y=\"200\" fill=\"white\" text-anchor=\"start\" style=\"font-size:12px;font-family:'Arial';\">안산공고 컴퓨터과 최고</text>\n",
              "        <g visibility=visible transform=\"rotate(360,200,200) translate(182, 182)\">\n",
              "<path style=\" stroke:none;fill-rule:evenodd;fill:white;fill-opacity:1;\" d=\"M 18.214844 0.632812 C 16.109375 1.800781 15.011719 4.074219 15.074219 7.132812 L 15.085938 7.652344 L 14.785156 7.496094 C 13.476562 6.824219 11.957031 6.671875 10.40625 7.066406 C 8.46875 7.550781 6.515625 9.15625 4.394531 11.992188 C 3.0625 13.777344 2.679688 14.636719 3.042969 15.027344 L 3.15625 15.152344 L 3.519531 15.152344 C 4.238281 15.152344 4.828125 14.886719 8.1875 13.039062 C 9.386719 12.378906 10.371094 11.839844 10.378906 11.839844 C 10.386719 11.839844 10.355469 11.929688 10.304688 12.035156 C 9.832031 13.09375 9.257812 14.820312 8.96875 16.078125 C 7.914062 20.652344 8.617188 24.53125 11.070312 27.660156 C 11.351562 28.015625 11.363281 27.914062 10.972656 28.382812 C 8.925781 30.84375 7.945312 33.28125 8.238281 35.1875 C 8.289062 35.527344 8.28125 35.523438 8.917969 35.523438 C 10.941406 35.523438 13.074219 34.207031 15.136719 31.6875 C 15.359375 31.417969 15.328125 31.425781 15.5625 31.574219 C 16.292969 32.042969 18.023438 32.964844 18.175781 32.964844 C 18.335938 32.964844 19.941406 32.210938 20.828125 31.71875 C 20.996094 31.625 21.136719 31.554688 21.136719 31.558594 C 21.203125 31.664062 21.898438 32.414062 22.222656 32.730469 C 23.835938 34.300781 25.5625 35.132812 27.582031 35.300781 C 27.90625 35.328125 27.9375 35.308594 28.007812 34.984375 C 28.382812 33.242188 27.625 30.925781 25.863281 28.425781 L 25.542969 27.96875 L 25.699219 27.785156 C 28.945312 23.960938 29.132812 18.699219 26.257812 11.96875 L 26.207031 11.84375 L 27.945312 12.703125 C 31.53125 14.476562 32.316406 14.800781 33.03125 14.800781 C 33.976562 14.800781 33.78125 13.9375 32.472656 12.292969 C 28.519531 7.355469 25.394531 5.925781 21.921875 7.472656 L 21.558594 7.636719 L 21.578125 7.542969 C 21.699219 6.992188 21.761719 5.742188 21.699219 5.164062 C 21.496094 3.296875 20.664062 1.964844 19.003906 0.855469 C 18.480469 0.503906 18.457031 0.5 18.214844 0.632812\"/>\n",
              "</g>\n",
              "      </svg>\n",
              "    "
            ]
          },
          "metadata": {}
        },
        {
          "name": "stdout",
          "output_type": "stream",
          "text": [
            "이동할 x의 위치 : 200\n",
            "이동할 y의 위치 : 200\n",
            "쓰고 싶은 글자 : 안산공고 컴퓨터과 최고\n"
          ]
        }
      ]
    }
  ]
}