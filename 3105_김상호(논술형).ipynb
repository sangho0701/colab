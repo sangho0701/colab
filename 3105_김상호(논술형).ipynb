{
  "nbformat": 4,
  "nbformat_minor": 0,
  "metadata": {
    "colab": {
      "name": "3105-김상호(논술형).ipynb",
      "provenance": [],
      "authorship_tag": "ABX9TyMcD9wukMiVj8VcKA9snjTE",
      "include_colab_link": true
    },
    "kernelspec": {
      "name": "python3",
      "display_name": "Python 3"
    },
    "language_info": {
      "name": "python"
    }
  },
  "cells": [
    {
      "cell_type": "markdown",
      "metadata": {
        "id": "view-in-github",
        "colab_type": "text"
      },
      "source": [
        "<a href=\"https://colab.research.google.com/github/sangho0701/colab/blob/main/3105_%EA%B9%80%EC%83%81%ED%98%B8(%EB%85%BC%EC%88%A0%ED%98%95).ipynb\" target=\"_parent\"><img src=\"https://colab.research.google.com/assets/colab-badge.svg\" alt=\"Open In Colab\"/></a>"
      ]
    },
    {
      "cell_type": "markdown",
      "source": [
        "2022학년도 응용프로그래밍 개발 - 논술형\n",
        "\n",
        "컴퓨터과 3학년 1반 5번 김상호"
      ],
      "metadata": {
        "id": "TguKLUls6qiY"
      }
    },
    {
      "cell_type": "code",
      "execution_count": 4,
      "metadata": {
        "colab": {
          "base_uri": "https://localhost:8080/"
        },
        "id": "hiIHS32552ra",
        "outputId": "b14a10c9-aa6f-4086-bc13-7357061befa0"
      },
      "outputs": [
        {
          "output_type": "stream",
          "name": "stdout",
          "text": [
            "첫 번째 숫자 : 15\n",
            "두 번째 숫자 : 65\n",
            "15 + 65 = 80\n",
            "15 - 65 = -50\n",
            "15 * 65 = 975\n",
            "15 / 65 = 0.23076923076923078\n",
            "15 // 65 = 0\n",
            "15 % 65 = 15\n",
            "15 ** 65 = 27921055931921013232011159071335542301850463076107189408503472805023193359375\n"
          ]
        }
      ],
      "source": [
        "num1 = int(input(\"첫 번째 숫자 : \"))\n",
        "num2 = int(input(\"두 번째 숫자 : \"))\n",
        "result1 = num1 + num2\n",
        "result2 = num1 - num2\n",
        "result3 = num1 * num2\n",
        "result4 = num1 / num2\n",
        "result5 = num1 // num2\n",
        "result6 = num1 % num2\n",
        "result7 = num1 ** num2\n",
        "print(num1, \"+\", num2, \"=\", result1)\n",
        "print(num1, \"-\", num2, \"=\", result2)\n",
        "print(num1, \"*\", num2, \"=\", result3)\n",
        "print(num1, \"/\", num2, \"=\", result4)\n",
        "print(num1, \"//\", num2, \"=\", result5)\n",
        "print(num1, \"%\", num2, \"=\", result6)\n",
        "print(num1, \"**\", num2, \"=\", result7)"
      ]
    }
  ]
}