{
  "nbformat": 4,
  "nbformat_minor": 0,
  "metadata": {
    "colab": {
      "name": "Lession5.ipynb",
      "provenance": [],
      "authorship_tag": "ABX9TyOylKhECnfsT7QFZvwRK3TU",
      "include_colab_link": true
    },
    "kernelspec": {
      "name": "python3",
      "display_name": "Python 3"
    },
    "language_info": {
      "name": "python"
    }
  },
  "cells": [
    {
      "cell_type": "markdown",
      "metadata": {
        "id": "view-in-github",
        "colab_type": "text"
      },
      "source": [
        "<a href=\"https://colab.research.google.com/github/sangho0701/colab/blob/main/Lession5.ipynb\" target=\"_parent\"><img src=\"https://colab.research.google.com/assets/colab-badge.svg\" alt=\"Open In Colab\"/></a>"
      ]
    },
    {
      "cell_type": "markdown",
      "source": [
        "5장 예제 if문"
      ],
      "metadata": {
        "id": "-xKTbmu5QHmK"
      }
    },
    {
      "cell_type": "code",
      "execution_count": null,
      "metadata": {
        "colab": {
          "base_uri": "https://localhost:8080/"
        },
        "id": "aaCNaeECP-ip",
        "outputId": "6668740e-6ae6-4f2e-e78b-65edfcbc7a1b"
      },
      "outputs": [
        {
          "output_type": "stream",
          "name": "stdout",
          "text": [
            "100보다 작습니다.\n"
          ]
        }
      ],
      "source": [
        "num = 99\n",
        "if num < 100 :\n",
        "  print(\"100보다 작습니다.\")"
      ]
    },
    {
      "cell_type": "code",
      "source": [
        "num1 = int(input(\"숫자를 입력해주세요 : \"))\n",
        "\n",
        "if (num1 % 2) == 1 :\n",
        "  print(num1, \"는 홀수입니다 \")\n",
        "if (num1 % 2) == 0 :\n",
        "  print(num1, \"는 짝수입니다 \")"
      ],
      "metadata": {
        "colab": {
          "base_uri": "https://localhost:8080/"
        },
        "id": "tp81UHzGQ97J",
        "outputId": "04ec75bb-4bab-434e-d38a-3c4548dcbb08"
      },
      "execution_count": null,
      "outputs": [
        {
          "output_type": "stream",
          "name": "stdout",
          "text": [
            "숫자를 입력해주세요 : 20\n",
            "20 는 짝수입니다 \n"
          ]
        }
      ]
    },
    {
      "cell_type": "code",
      "source": [
        "num1 = int(input(\"숫자를 입력 : \"))\n",
        "\n",
        "if num1 > 100 :\n",
        "  if num1 < 1000 :\n",
        "      print(\"100보다 크고 1000보다 작군요.\")\n",
        "  else :     \n",
        "    print(\"와~ 1000보다 크군요.\")\n",
        "else :\n",
        "  print(\"음~ 100보다 작군요.\")"
      ],
      "metadata": {
        "id": "ZXfN0lwOMFzq",
        "outputId": "9b186b76-ced3-4f5d-9ffb-b4ebb1ae0e27",
        "colab": {
          "base_uri": "https://localhost:8080/"
        }
      },
      "execution_count": 5,
      "outputs": [
        {
          "output_type": "stream",
          "name": "stdout",
          "text": [
            "숫자를 입력 : 150\n",
            "100보다 크고 1000보다 작군요.\n"
          ]
        }
      ]
    },
    {
      "cell_type": "code",
      "source": [
        "num1 = int(input(\"학점을 입력해주세요 : \"))\n",
        "\n",
        "if num1 >= 90 :\n",
        "  print(\"A 학점입니다.\")\n",
        "else :\n",
        "  if num1 >= 80 :\n",
        "    print(\"B 학점입니다\")\n",
        "  else :\n",
        "    if num1 >= 70 :\n",
        "      print(\"C 학점입니다.\")\n",
        "    else :\n",
        "      if num1 >= 60 :\n",
        "        print(\"D 학점입니다.\")\n",
        "      else :\n",
        "        print(\"F 학점입니다\")"
      ],
      "metadata": {
        "id": "MdEL0OCDNZxB",
        "outputId": "93de86f9-8200-428e-b330-b119850db0bb",
        "colab": {
          "base_uri": "https://localhost:8080/"
        }
      },
      "execution_count": 13,
      "outputs": [
        {
          "output_type": "stream",
          "name": "stdout",
          "text": [
            "학점을 입력해주세요 : 77\n",
            "C 학점입니다.\n"
          ]
        }
      ]
    },
    {
      "cell_type": "code",
      "source": [
        "num1 = int(input(\"학점을 입력해주세요 : \"))\n",
        "\n",
        "if num1 >= 90 :\n",
        "  print(\"A 학점입니다.\")\n",
        "elif num1 >= 80 :\n",
        "  print(\"B 학점입니다.\")\n",
        "elif num1 >= 70 :\n",
        "  print(\"C 학점입니다.\")\n",
        "elif num1 >= 60 :\n",
        "  print(\"D 학점입니다.\")\n",
        "else :\n",
        "  print(\"F 학점입니다.\")"
      ],
      "metadata": {
        "id": "X-3vdRMUPGfB",
        "outputId": "cb194463-8a7d-43d1-9c14-094f9e3ce0bd",
        "colab": {
          "base_uri": "https://localhost:8080/"
        }
      },
      "execution_count": 20,
      "outputs": [
        {
          "output_type": "stream",
          "name": "stdout",
          "text": [
            "학점을 입력해주세요 : 97\n",
            "A 학점입니다.\n"
          ]
        }
      ]
    },
    {
      "cell_type": "code",
      "source": [
        "num1 = int(input(\"나이를 입력 : \"))\n",
        "\n",
        "if num1 <= 18 :\n",
        "  print(\"집에 갈 시간이네요. ^^\")\n",
        "else :\n",
        "  print(\"즐거운 시간 되세요. ^^\")\n",
        "print(\"협조감사합니다\")"
      ],
      "metadata": {
        "id": "5DLcxQmbQzVZ",
        "outputId": "78711e84-12b8-4248-d947-90a72e956af4",
        "colab": {
          "base_uri": "https://localhost:8080/"
        }
      },
      "execution_count": 25,
      "outputs": [
        {
          "output_type": "stream",
          "name": "stdout",
          "text": [
            "나이를 입력 : 16\n",
            "집에 갈 시간이네요. ^^\n",
            "협조감사합니다\n"
          ]
        }
      ]
    },
    {
      "cell_type": "code",
      "source": [
        "fact = 1\n",
        "friend_num = 5\n",
        "\n",
        "for i in range(1, friend_num + 1, 1) :\n",
        "  fact = fact + i\n",
        "\n",
        "print(\"A, B, C, D, E 학생들을 순서대로 세우는 경우의 수\", fact)"
      ],
      "metadata": {
        "id": "cBc-MpfLpNoW",
        "outputId": "c23437d9-0620-4fc0-bd9c-ebd352a4a712",
        "colab": {
          "base_uri": "https://localhost:8080/"
        }
      },
      "execution_count": 39,
      "outputs": [
        {
          "output_type": "stream",
          "name": "stdout",
          "text": [
            "A, B, C, D, E 학생들을 순서대로 세우는 경우의 수 16\n"
          ]
        }
      ]
    },
    {
      "cell_type": "code",
      "source": [],
      "metadata": {
        "id": "6-tDKpBi1m17"
      },
      "execution_count": null,
      "outputs": []
    }
  ]
}