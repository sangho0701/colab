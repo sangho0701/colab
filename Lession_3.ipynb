{
  "nbformat": 4,
  "nbformat_minor": 0,
  "metadata": {
    "colab": {
      "name": "Lession-3.ipynb",
      "provenance": [],
      "authorship_tag": "ABX9TyMQmvEoYn4Hop2ffKHEMetS",
      "include_colab_link": true
    },
    "kernelspec": {
      "name": "python3",
      "display_name": "Python 3"
    },
    "language_info": {
      "name": "python"
    }
  },
  "cells": [
    {
      "cell_type": "markdown",
      "metadata": {
        "id": "view-in-github",
        "colab_type": "text"
      },
      "source": [
        "<a href=\"https://colab.research.google.com/github/sangho0701/colab/blob/main/Lession_3.ipynb\" target=\"_parent\"><img src=\"https://colab.research.google.com/assets/colab-badge.svg\" alt=\"Open In Colab\"/></a>"
      ]
    },
    {
      "cell_type": "code",
      "execution_count": 2,
      "metadata": {
        "colab": {
          "base_uri": "https://localhost:8080/"
        },
        "id": "NV0sN_ju4jVq",
        "outputId": "581b555b-7824-4a64-ac56-36278b3c516c"
      },
      "outputs": [
        {
          "output_type": "stream",
          "name": "stdout",
          "text": [
            "나눠지는 수 ==> 25\n",
            "나누는 수 ==> 10\n",
            "25 을(를) 10 (으)로 나눈 몫은  2 입니다.\n",
            "25 을(를) 10 (으)로 나눈 나머지는 5 입니다.\n"
          ]
        }
      ],
      "source": [
        "num1 = int(input(\"나눠지는 수 ==> \"))\n",
        "num2 = int(input(\"나누는 수 ==> \"))\n",
        "q = num1 // num2\n",
        "r = num1 % num2\n",
        "print(num1, '을(를)', num2, '(으)로 나눈 몫은 ', q, '입니다.')\n",
        "print(num1, '을(를)', num2, '(으)로 나눈 나머지는', r, '입니다.')"
      ]
    },
    {
      "cell_type": "markdown",
      "source": [
        "짝수, 홀수 판별 프로그램"
      ],
      "metadata": {
        "id": "YpkCeGWQ6GFA"
      }
    },
    {
      "cell_type": "code",
      "source": [
        "num1 = int(input(\"정수를 입력 ==> \"))\n",
        "\n",
        "if num1 % 2 = 0\n",
        "  print(num1, \"(은)는 짝수 입니다.\")\n",
        "else\n",
        "  print(num1, \"(은)는 홀수 입니다.\")"
      ],
      "metadata": {
        "colab": {
          "base_uri": "https://localhost:8080/",
          "height": 137
        },
        "id": "vFH7E87K6JtI",
        "outputId": "ac558fa8-9e4f-4170-e8b7-968e1ee06e2e"
      },
      "execution_count": 6,
      "outputs": [
        {
          "output_type": "error",
          "ename": "SyntaxError",
          "evalue": "ignored",
          "traceback": [
            "\u001b[0;36m  File \u001b[0;32m\"<ipython-input-6-78ef60163291>\"\u001b[0;36m, line \u001b[0;32m3\u001b[0m\n\u001b[0;31m    if num1 % 2 = 0\u001b[0m\n\u001b[0m                ^\u001b[0m\n\u001b[0;31mSyntaxError\u001b[0m\u001b[0;31m:\u001b[0m invalid syntax\n"
          ]
        }
      ]
    },
    {
      "cell_type": "code",
      "source": [
        "num1 = int(input(\"파운드(lb)를 입력하세요 : \"))\n",
        "q = num1 * 0.453592\n",
        "print(num1, \"파운드(lb)는\", round(q, 5), \"킬로그램(kb)입니다\")\n",
        "num2 = int(input(\"킬로그램(kb)을 입력하세요 : \"))\n",
        "r = num2 * 2.204623\n",
        "print(num2, \"킬로그램(kb)은\", round(r, 5), \"파운드(lb)입니다\")"
      ],
      "metadata": {
        "colab": {
          "base_uri": "https://localhost:8080/"
        },
        "id": "JJ7zcm-C7QiC",
        "outputId": "9f5b5111-2c83-4d0d-bb72-182ce94ebc5d"
      },
      "execution_count": 9,
      "outputs": [
        {
          "output_type": "stream",
          "name": "stdout",
          "text": [
            "파운드(lb)를 입력하세요 : 15\n",
            "15 파운드(lb)는 6.80388 킬로그램(kb)입니다\n",
            "킬로그램(kb)을 입력하세요 : 15\n",
            "15 킬로그램(kb)은 33.06935 파운드(lb)입니다\n"
          ]
        }
      ]
    },
    {
      "cell_type": "markdown",
      "source": [
        "bmi 계산기\n",
        "bmi = kg/m**2"
      ],
      "metadata": {
        "id": "X2lQt5FF9rx2"
      }
    },
    {
      "cell_type": "code",
      "source": [
        "weight = float(input(\"몸무계를 입력 ==> \"))\n",
        "height = float(input(\"키(신장)를 입력(cm) ==> \"))\n",
        "height = height * 0.01\n",
        "bmi = weight / (height * height)\n",
        "print(\"당신의 bmi : \", round(bmi, 3))"
      ],
      "metadata": {
        "colab": {
          "base_uri": "https://localhost:8080/"
        },
        "id": "pBkWkioV9q9e",
        "outputId": "82fe9232-b369-40c0-95c1-c55f9fb17660"
      },
      "execution_count": 11,
      "outputs": [
        {
          "output_type": "stream",
          "name": "stdout",
          "text": [
            "몸무계를 입력 ==> 90\n",
            "키(신장)를 입력(cm) ==> 177\n",
            "당신의 bmi :  28.727\n"
          ]
        }
      ]
    },
    {
      "cell_type": "code",
      "source": [
        "num = 0\n",
        "num -= 900 * 10\n",
        "num += 1800 * 2\n",
        "num -= 3500 * 5\n",
        "num += 4000 * 4\n",
        "num += 1500* 1\n",
        "num += 2000 * 4\n",
        "num += 1800 * 5\n",
        "print(\"오늘 총 매출액은 \", num, \"원 입니다.\")"
      ],
      "metadata": {
        "colab": {
          "base_uri": "https://localhost:8080/"
        },
        "id": "tMdQfLuBAK4k",
        "outputId": "f2f1c175-8cf6-4929-acfc-e1160d549547"
      },
      "execution_count": 15,
      "outputs": [
        {
          "output_type": "stream",
          "name": "stdout",
          "text": [
            "오늘 총 매출액은  11600 원 입니다.\n"
          ]
        }
      ]
    },
    {
      "cell_type": "markdown",
      "source": [
        "비교 연산자 예제"
      ],
      "metadata": {
        "id": "iii7VdY_E27j"
      }
    },
    {
      "cell_type": "code",
      "source": [
        "num1 = int(input(\"필기 시험 점수를 입력하세요 : \"))\n",
        "print(num1 >= 70)"
      ],
      "metadata": {
        "colab": {
          "base_uri": "https://localhost:8080/"
        },
        "id": "xalWT_RGE5XC",
        "outputId": "7cc4373e-8829-48ff-d0f5-19bb5fdbf565"
      },
      "execution_count": 17,
      "outputs": [
        {
          "output_type": "stream",
          "name": "stdout",
          "text": [
            "필기 시험 점수를 입력하세요 : 80\n",
            "True\n"
          ]
        }
      ]
    },
    {
      "cell_type": "code",
      "source": [
        "python = 3\n",
        "mobile = 2\n",
        "excel = 1\n",
        "\n",
        "A = 4.5\n",
        "AO = 4.0\n",
        "B = 3.5\n",
        "\n",
        "avg = ((python * B) + (mobile * AO) + (excel * A)) / (python + mobile + excel)\n",
        "print(\"평균 학점 : \", round(avg, 2))"
      ],
      "metadata": {
        "colab": {
          "base_uri": "https://localhost:8080/"
        },
        "id": "6FNPtD9wGSEi",
        "outputId": "0aba6135-58c0-4c3a-8a6c-5a8e265b2fab"
      },
      "execution_count": 22,
      "outputs": [
        {
          "output_type": "stream",
          "name": "stdout",
          "text": [
            "평균 학점 :  3.83\n"
          ]
        }
      ]
    },
    {
      "cell_type": "code",
      "source": [
        "#!pip3 install Colabturtle\n",
        "import ColabTurtle. Turtle as turtle\n",
        "\n",
        "turtle. initializeTurtle()\n",
        "while True :\n",
        "  angle = int(input(\"거북이의 회전 각도 : \"))\n",
        "  if  angle == 0 :\n",
        "    break ;\n",
        "  distance = int(input(\"거북이의 이동거리 : \"))\n",
        "  \n",
        "  turtle. left(angle)\n",
        "  turtle. forward(distance)"
      ],
      "metadata": {
        "colab": {
          "base_uri": "https://localhost:8080/",
          "height": 612
        },
        "id": "ur_KE9mgIShB",
        "outputId": "ae8e6373-7cff-48e7-f155-330f5d5dda9a"
      },
      "execution_count": 42,
      "outputs": [
        {
          "output_type": "display_data",
          "data": {
            "text/plain": [
              "<IPython.core.display.HTML object>"
            ],
            "text/html": [
              "\n",
              "      <svg width=\"800\" height=\"500\">\n",
              "        <rect width=\"100%\" height=\"100%\" fill=\"black\"/>\n",
              "        <line x1=\"400\" y1=\"250\" x2=\"258.579\" y2=\"108.579\" stroke-linecap=\"round\" style=\"stroke:white;stroke-width:4\"/><line x1=\"258.579\" y1=\"108.579\" x2=\"58.579\" y2=\"108.579\" stroke-linecap=\"round\" style=\"stroke:white;stroke-width:4\"/>\n",
              "        <g visibility=visible transform=\"rotate(270,58.579,108.579) translate(40.579, 90.579)\">\n",
              "<path style=\" stroke:none;fill-rule:evenodd;fill:white;fill-opacity:1;\" d=\"M 18.214844 0.632812 C 16.109375 1.800781 15.011719 4.074219 15.074219 7.132812 L 15.085938 7.652344 L 14.785156 7.496094 C 13.476562 6.824219 11.957031 6.671875 10.40625 7.066406 C 8.46875 7.550781 6.515625 9.15625 4.394531 11.992188 C 3.0625 13.777344 2.679688 14.636719 3.042969 15.027344 L 3.15625 15.152344 L 3.519531 15.152344 C 4.238281 15.152344 4.828125 14.886719 8.1875 13.039062 C 9.386719 12.378906 10.371094 11.839844 10.378906 11.839844 C 10.386719 11.839844 10.355469 11.929688 10.304688 12.035156 C 9.832031 13.09375 9.257812 14.820312 8.96875 16.078125 C 7.914062 20.652344 8.617188 24.53125 11.070312 27.660156 C 11.351562 28.015625 11.363281 27.914062 10.972656 28.382812 C 8.925781 30.84375 7.945312 33.28125 8.238281 35.1875 C 8.289062 35.527344 8.28125 35.523438 8.917969 35.523438 C 10.941406 35.523438 13.074219 34.207031 15.136719 31.6875 C 15.359375 31.417969 15.328125 31.425781 15.5625 31.574219 C 16.292969 32.042969 18.023438 32.964844 18.175781 32.964844 C 18.335938 32.964844 19.941406 32.210938 20.828125 31.71875 C 20.996094 31.625 21.136719 31.554688 21.136719 31.558594 C 21.203125 31.664062 21.898438 32.414062 22.222656 32.730469 C 23.835938 34.300781 25.5625 35.132812 27.582031 35.300781 C 27.90625 35.328125 27.9375 35.308594 28.007812 34.984375 C 28.382812 33.242188 27.625 30.925781 25.863281 28.425781 L 25.542969 27.96875 L 25.699219 27.785156 C 28.945312 23.960938 29.132812 18.699219 26.257812 11.96875 L 26.207031 11.84375 L 27.945312 12.703125 C 31.53125 14.476562 32.316406 14.800781 33.03125 14.800781 C 33.976562 14.800781 33.78125 13.9375 32.472656 12.292969 C 28.519531 7.355469 25.394531 5.925781 21.921875 7.472656 L 21.558594 7.636719 L 21.578125 7.542969 C 21.699219 6.992188 21.761719 5.742188 21.699219 5.164062 C 21.496094 3.296875 20.664062 1.964844 19.003906 0.855469 C 18.480469 0.503906 18.457031 0.5 18.214844 0.632812\"/>\n",
              "</g>\n",
              "      </svg>\n",
              "    "
            ]
          },
          "metadata": {}
        },
        {
          "name": "stdout",
          "output_type": "stream",
          "text": [
            "거북이의 회전 각도 : 45\n",
            "거북이의 이동거리 : 200\n",
            "거북이의 회전 각도 : 45\n",
            "거북이의 이동거리 : 200\n",
            "거북이의 회전 각도 : 0\n"
          ]
        }
      ]
    }
  ]
}